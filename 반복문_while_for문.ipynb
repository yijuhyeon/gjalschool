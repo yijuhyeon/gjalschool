{
  "cells": [
    {
      "cell_type": "code",
      "execution_count": null,
      "metadata": {
        "colab": {
          "base_uri": "https://localhost:8080/"
        },
        "id": "gcnPffbuprsp",
        "outputId": "836c81e7-a1fb-4608-9e02-6c8c38f44aef"
      },
      "outputs": [
        {
          "name": "stdout",
          "output_type": "stream",
          "text": [
            "파이썬최고\n",
            "파이썬최고\n",
            "파이썬최고\n",
            "파이썬최고\n",
            "파이썬최고\n",
            "파이썬최고\n",
            "파이썬최고\n",
            "파이썬최고\n",
            "파이썬최고\n",
            "파이썬최고\n",
            "파이썬최고\n",
            "파이썬최고\n",
            "파이썬최고\n"
          ]
        }
      ],
      "source": [
        "number = 0\n",
        "while number<13:\n",
        "  print(\"파이썬최고\")\n",
        "  number+=1 "
      ]
    },
    {
      "cell_type": "code",
      "execution_count": null,
      "metadata": {
        "colab": {
          "base_uri": "https://localhost:8080/"
        },
        "id": "mZ7SxrDtq9Us",
        "outputId": "b539df16-b411-4c71-ea27-3d936a15d6c7"
      },
      "outputs": [
        {
          "name": "stdout",
          "output_type": "stream",
          "text": [
            "1\n",
            "2\n",
            "3\n"
          ]
        }
      ],
      "source": [
        "#break\n",
        "number = 1\n",
        "while True:\n",
        "  print(number)\n",
        "  number+=1\n",
        "  if number>3:\n",
        "    break"
      ]
    },
    {
      "cell_type": "code",
      "execution_count": null,
      "metadata": {
        "colab": {
          "base_uri": "https://localhost:8080/"
        },
        "id": "ce47cqYLr8Dk",
        "outputId": "dec01f9c-4c4f-4e0f-c22b-88307852e4bb"
      },
      "outputs": [
        {
          "name": "stdout",
          "output_type": "stream",
          "text": [
            "첫번째 정수 입력>>1\n",
            "두번째 정수 입력>>2\n",
            "두 수의 합 : 3\n",
            "첫번째 정수 입력>>0\n",
            "두번째 정수 입력>>0\n",
            "프로그램이 종료되었습니다\n"
          ]
        }
      ],
      "source": [
        "#두개의 정수를 입력받아 더하는 코드를 작성하시오\n",
        "#(단, 두개의 정수가 0이 들어올 때까지 반복하시오)\n",
        "\n",
        "while True:\n",
        "  num1 = int(input(\"첫번째 정수 입력>>\"))\n",
        "  num2 = int(input(\"두번째 정수 입력>>\"))\n",
        "\n",
        "  if num1==0 and num2==0:\n",
        "    break\n",
        "  print(\"두 수의 합 : {}\".format(num1+num2))\n",
        "print(\"프로그램이 종료되었습니다\")\n"
      ]
    },
    {
      "cell_type": "code",
      "execution_count": null,
      "metadata": {
        "colab": {
          "base_uri": "https://localhost:8080/"
        },
        "id": "x1bTrvVbtlH0",
        "outputId": "c6dae4cb-442e-480c-bbe0-21cbfe94aed0"
      },
      "outputs": [
        {
          "name": "stdout",
          "output_type": "stream",
          "text": [
            "1번 합격입니다.\n",
            "2번 학생은 불합격입니다.\n",
            "3번 합격입니다.\n",
            "4번 합격입니다.\n",
            "5번 학생은 불합격입니다.\n"
          ]
        }
      ],
      "source": [
        "#5명에 대한 정보처리기사 자격증 시험점수가 리스트에 담겨짐\n",
        "#이때 각 점수가 합격점수인지 불합격점수인지 판별하여 출력하시오\n",
        "#60점이상 합격\n",
        "score_list=[90,45,70,60,55]\n",
        "number = 1\n",
        "for score in score_list:\n",
        "  if score >= 60:\n",
        "    print(\"{}번 합격입니다.\".format(number))\n",
        "  else:\n",
        "    print(\"{}번 학생은 불합격입니다.\".format(number))\n",
        "  number +=1"
      ]
    },
    {
      "cell_type": "code",
      "execution_count": null,
      "metadata": {
        "colab": {
          "base_uri": "https://localhost:8080/"
        },
        "id": "3YSh1CTcyua8",
        "outputId": "35cd639e-2c92-48d6-cc46-8927d4e182f0"
      },
      "outputs": [
        {
          "name": "stdout",
          "output_type": "stream",
          "text": [
            "1번 학생은 불합격입니다.\n",
            "2번 학생은 불합격입니다.\n",
            "3번 학생은 불합격입니다.\n",
            "4번 학생은 불합격입니다.\n",
            "5번 학생은 불합격입니다.\n"
          ]
        }
      ],
      "source": [
        "score_list=[90,45,70,60,55]\n",
        "number = 1\n",
        "for score in score_list:\n",
        "  if score >= 60:\n",
        "       result = \"합격\"\n",
        "  else:\n",
        "       result = \"불합격\"\n",
        "  print(\"{}번 학생은 불합격입니다.\".format(number,result))\n",
        "  number +=1"
      ]
    },
    {
      "cell_type": "code",
      "execution_count": null,
      "metadata": {
        "colab": {
          "base_uri": "https://localhost:8080/"
        },
        "id": "Ozsbj-C0I_aU",
        "outputId": "1f78380f-89ba-4398-88da-6e70fb63e133"
      },
      "outputs": [
        {
          "name": "stdout",
          "output_type": "stream",
          "text": [
            "97 96 95 94 93 92 91 90 89 88 87 86 85 84 83 82 81 80 79 78 77 "
          ]
        }
      ],
      "source": [
        "for i in range(97,76,-1):\n",
        "  print(i, end=\" \")"
      ]
    },
    {
      "cell_type": "code",
      "execution_count": null,
      "metadata": {
        "colab": {
          "base_uri": "https://localhost:8080/"
        },
        "id": "Rjk7498iJ0vM",
        "outputId": "5660b39c-24e2-48a3-8734-2461e3906d2a"
      },
      "outputs": [
        {
          "name": "stdout",
          "output_type": "stream",
          "text": [
            "23 24 25 26 27 28 29 30 31 32 33 34 35 36 37 38 39 40 "
          ]
        }
      ],
      "source": [
        "for i in range(23,41,1):\n",
        "  print(i, end=\" \")"
      ]
    },
    {
      "cell_type": "code",
      "execution_count": null,
      "metadata": {
        "colab": {
          "base_uri": "https://localhost:8080/"
        },
        "id": "qHmkS0waKWoE",
        "outputId": "8841aaa9-c156-4162-ba69-7ca4227796b4"
      },
      "outputs": [
        {
          "name": "stdout",
          "output_type": "stream",
          "text": [
            "1 2\n",
            "3 4\n",
            "5 6\n"
          ]
        }
      ],
      "source": [
        "list1 = [[1,2],[3,4],[5,6]]\n",
        "for i,j in list1:\n",
        "  print(i,j)"
      ]
    },
    {
      "cell_type": "code",
      "execution_count": 3,
      "metadata": {
        "colab": {
          "base_uri": "https://localhost:8080/"
        },
        "id": "2h9kdRPcKwij",
        "outputId": "ad2837dd-38bc-4d53-b1d1-d8591c2eb8f3"
      },
      "outputs": [
        {
          "output_type": "stream",
          "name": "stdout",
          "text": [
            "숫자를 입력하세요>>2\n",
            "2보다 큰 수 입니다.\n",
            "숫자를 입력하세요>>3\n",
            "3보다 큰 수 입니다.\n",
            "숫자를 입력하세요>>4\n",
            "4보다 큰 수 입니다.\n",
            "숫자를 입력하세요>>45\n",
            "45보다 작은 수 입니다.\n",
            "숫자를 입력하세요>>6\n",
            "6보다 큰 수 입니다.\n",
            "숫자를 입력하세요>>5\n",
            "5보다 큰 수 입니다.\n",
            "숫자를 입력하세요>>1\n",
            "1보다 큰 수 입니다.\n",
            "숫자를 입력하세요>>10\n",
            "10보다 큰 수 입니다.\n",
            "숫자를 입력하세요>>12\n",
            "숫자를 입력하세요>>13\n",
            "12보다 큰 수 입니다.\n",
            "13보다 큰 수 입니다.\n",
            "숫자를 입력하세요>>82\n",
            "82보다 작은 수 입니다.\n",
            "숫자를 입력하세요>>14\n",
            "14보다 큰 수 입니다.\n",
            "숫자를 입력하세요>>16\n",
            "16보다 큰 수 입니다.\n",
            "숫자를 입력하세요>>17\n",
            "숫자를 입력하세요>>48\n",
            "17보다 큰 수 입니다.\n",
            "48보다 작은 수 입니다.\n",
            "숫자를 입력하세요>>32\n",
            "32보다 큰 수 입니다.\n",
            "숫자를 입력하세요>>34\n",
            "정답입니다.!!\n"
          ]
        }
      ],
      "source": [
        "#while문 예제 \n",
        "#랜덤으로 1부터 50사이의 숫자를 뽑으면 뽑은 숫자를 맞추는 UP and down\n",
        "import random\n",
        "com_num = random.randint(1,50)\n",
        "while True:\n",
        "  num = int(input(\"숫자를 입력하세요>>\"))\n",
        "  if num < com_num:\n",
        "    print(\"{}보다 큰 수 입니다.\".format(num))\n",
        "  elif num > com_num:\n",
        "    print(\"{}보다 작은 수 입니다.\".format(num))\n",
        "  else:\n",
        "    print(\"정답입니다.!!\")\n",
        "    break\n"
      ]
    },
    {
      "cell_type": "code",
      "source": [
        "start = int(input(\"첫번째 정수 입력>> \"))\n",
        "end = int(input(\"두번째 정수 입력>>\"))\n",
        "\n",
        "for i in range(start,end+1):\n",
        "  print(i, end=\" \")\n"
      ],
      "metadata": {
        "colab": {
          "base_uri": "https://localhost:8080/"
        },
        "id": "O5UDVRGXmKBK",
        "outputId": "ad68a237-a1d8-4b75-ea87-170d3dc0bad7"
      },
      "execution_count": 6,
      "outputs": [
        {
          "output_type": "stream",
          "name": "stdout",
          "text": [
            "첫번째 정수 입력>> 10\n",
            "두번째 정수 입력>>30\n",
            "10 11 12 13 14 15 16 17 18 19 20 21 22 23 24 25 26 27 28 29 30 "
          ]
        }
      ]
    },
    {
      "cell_type": "code",
      "source": [
        "add = 0\n",
        "for i in range(1,101):\n",
        "  if i%3==0:\n",
        "    add += i"
      ],
      "metadata": {
        "id": "PBvdhaIOnZbR"
      },
      "execution_count": 14,
      "outputs": []
    },
    {
      "cell_type": "code",
      "source": [
        "add"
      ],
      "metadata": {
        "colab": {
          "base_uri": "https://localhost:8080/"
        },
        "id": "S7QZaLJvomWC",
        "outputId": "59f99a30-2498-4729-89a0-92568e4df4b0"
      },
      "execution_count": 16,
      "outputs": [
        {
          "output_type": "execute_result",
          "data": {
            "text/plain": [
              "1683"
            ]
          },
          "metadata": {},
          "execution_count": 16
        }
      ]
    },
    {
      "cell_type": "code",
      "source": [
        "for i in range(1,10):\n",
        "  print(\"2*{}={}\".format(i, 2*i))"
      ],
      "metadata": {
        "colab": {
          "base_uri": "https://localhost:8080/"
        },
        "id": "-ojHLgSspPlR",
        "outputId": "ae7a0ee8-8ea0-4f36-d34a-ad2334628ea2"
      },
      "execution_count": 18,
      "outputs": [
        {
          "output_type": "stream",
          "name": "stdout",
          "text": [
            "2*1=2\n",
            "2*2=4\n",
            "2*3=6\n",
            "2*4=8\n",
            "2*5=10\n",
            "2*6=12\n",
            "2*7=14\n",
            "2*8=16\n",
            "2*9=18\n"
          ]
        }
      ]
    },
    {
      "cell_type": "code",
      "source": [
        "num = int(input(\"정수입력>>\"))\n",
        "\n",
        "print(\"약수:\", end=\" \")\n",
        "for i in range(1, num+1):\n",
        "  if num%i==0:\n",
        "    print(i, end=\" \")"
      ],
      "metadata": {
        "colab": {
          "base_uri": "https://localhost:8080/"
        },
        "id": "2BRqC9gRqgPB",
        "outputId": "4e170e85-8014-4581-fdd9-b674dd0ecdb5"
      },
      "execution_count": 23,
      "outputs": [
        {
          "output_type": "stream",
          "name": "stdout",
          "text": [
            "정수입력>>32\n",
            "약수: 1 2 4 8 16 32 "
          ]
        }
      ]
    }
  ],
  "metadata": {
    "colab": {
      "name": "반복문 while for문.ipynb",
      "provenance": [],
      "collapsed_sections": []
    },
    "kernelspec": {
      "display_name": "Python 3",
      "name": "python3"
    },
    "language_info": {
      "name": "python"
    }
  },
  "nbformat": 4,
  "nbformat_minor": 0
}