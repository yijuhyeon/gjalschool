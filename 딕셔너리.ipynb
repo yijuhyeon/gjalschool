{
  "nbformat": 4,
  "nbformat_minor": 0,
  "metadata": {
    "colab": {
      "name": "딕셔너리.ipynb",
      "provenance": []
    },
    "kernelspec": {
      "name": "python3",
      "display_name": "Python 3"
    },
    "language_info": {
      "name": "python"
    }
  },
  "cells": [
    {
      "cell_type": "code",
      "execution_count": null,
      "metadata": {
        "colab": {
          "base_uri": "https://localhost:8080/"
        },
        "id": "F7k98AM47_TZ",
        "outputId": "2908a010-62fd-45f6-d3e4-6bafba9bc531"
      },
      "outputs": [
        {
          "output_type": "stream",
          "name": "stdout",
          "text": [
            "{'노래제목': '아무노래'}\n"
          ]
        }
      ],
      "source": [
        "dic_test={'노래제목':'아무노래'}\n",
        "print(dic_test)"
      ]
    },
    {
      "cell_type": "code",
      "source": [
        "dic_test[\"가수\"]=\"지코\"\n",
        "dic_test"
      ],
      "metadata": {
        "colab": {
          "base_uri": "https://localhost:8080/"
        },
        "id": "WioRCPK88nyt",
        "outputId": "ba3c8605-bd8c-42e5-a93c-dad7cbf67f38"
      },
      "execution_count": null,
      "outputs": [
        {
          "output_type": "execute_result",
          "data": {
            "text/plain": [
              "{'가수': '지코', '노래제목': '아무노래'}"
            ]
          },
          "metadata": {},
          "execution_count": 7
        }
      ]
    },
    {
      "cell_type": "code",
      "source": [
        "dic2= {\"name\":\"MH\",\"age\":20, \"phone\":\"010-1234-1234\"}\n",
        "del dic2[\"age\"]\n",
        "dic2\n"
      ],
      "metadata": {
        "colab": {
          "base_uri": "https://localhost:8080/"
        },
        "id": "7difhnND9Sk3",
        "outputId": "ca4e877b-3a13-4e61-dbbd-b5d26f5b44e0"
      },
      "execution_count": null,
      "outputs": [
        {
          "output_type": "execute_result",
          "data": {
            "text/plain": [
              "{'name': 'MH', 'phone': '010-1234-1234'}"
            ]
          },
          "metadata": {},
          "execution_count": 9
        }
      ]
    },
    {
      "cell_type": "code",
      "source": [
        "dic2.get(\"name\")#키값이 없으면 none 뜸"
      ],
      "metadata": {
        "colab": {
          "base_uri": "https://localhost:8080/",
          "height": 35
        },
        "id": "Yh4H3Rnx98if",
        "outputId": "7a38b069-96b6-4734-8da4-f4d365d598d7"
      },
      "execution_count": null,
      "outputs": [
        {
          "output_type": "execute_result",
          "data": {
            "text/plain": [
              "'MH'"
            ],
            "application/vnd.google.colaboratory.intrinsic+json": {
              "type": "string"
            }
          },
          "metadata": {},
          "execution_count": 12
        }
      ]
    },
    {
      "cell_type": "code",
      "source": [
        "dic2.keys()"
      ],
      "metadata": {
        "colab": {
          "base_uri": "https://localhost:8080/"
        },
        "id": "eT_kAk9Z-XNn",
        "outputId": "22db0aef-59f4-436e-f9f4-37389a29e1b1"
      },
      "execution_count": null,
      "outputs": [
        {
          "output_type": "execute_result",
          "data": {
            "text/plain": [
              "dict_keys(['name', 'phone'])"
            ]
          },
          "metadata": {},
          "execution_count": 14
        }
      ]
    },
    {
      "cell_type": "code",
      "source": [
        "list(dic2.values())"
      ],
      "metadata": {
        "colab": {
          "base_uri": "https://localhost:8080/"
        },
        "id": "GhHz-FPA-bCG",
        "outputId": "6c729cf6-41f2-43fe-df82-7fe42061c571"
      },
      "execution_count": null,
      "outputs": [
        {
          "output_type": "execute_result",
          "data": {
            "text/plain": [
              "['MH', '010-1234-1234']"
            ]
          },
          "metadata": {},
          "execution_count": 17
        }
      ]
    },
    {
      "cell_type": "code",
      "source": [
        "for key in dic2.keys():#키값을 하나씩 뺄 때\n",
        "  print(key)"
      ],
      "metadata": {
        "colab": {
          "base_uri": "https://localhost:8080/"
        },
        "id": "PtoEtHFf-k2P",
        "outputId": "9c0416dd-a341-488f-c88c-6682dc958613"
      },
      "execution_count": null,
      "outputs": [
        {
          "output_type": "stream",
          "name": "stdout",
          "text": [
            "name\n",
            "phone\n"
          ]
        }
      ]
    },
    {
      "cell_type": "code",
      "source": [
        "for key, value in dic2.items():#키값을 하나씩 뺄 때\n",
        "  print(key,value)"
      ],
      "metadata": {
        "colab": {
          "base_uri": "https://localhost:8080/"
        },
        "id": "qPuN2ZRt-p3u",
        "outputId": "b9e69436-4841-4efc-b15c-44e5060bc8c0"
      },
      "execution_count": null,
      "outputs": [
        {
          "output_type": "stream",
          "name": "stdout",
          "text": [
            "name MH\n",
            "phone 010-1234-1234\n"
          ]
        }
      ]
    },
    {
      "cell_type": "code",
      "source": [
        "# key in 딕셔너리명 in은 딕셔너리의 키에 한해서 동작한다"
      ],
      "metadata": {
        "id": "Sx7Q6spU_PwI"
      },
      "execution_count": null,
      "outputs": []
    }
  ]
}