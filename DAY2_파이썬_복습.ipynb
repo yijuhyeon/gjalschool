{
  "nbformat": 4,
  "nbformat_minor": 0,
  "metadata": {
    "colab": {
      "name": "DAY2 파이썬 복습",
      "provenance": [],
      "collapsed_sections": []
    },
    "kernelspec": {
      "name": "python3",
      "display_name": "Python 3"
    },
    "language_info": {
      "name": "python"
    }
  },
  "cells": [
    {
      "cell_type": "code",
      "execution_count": null,
      "metadata": {
        "colab": {
          "base_uri": "https://localhost:8080/"
        },
        "id": "JZAEQl6lqzw7",
        "outputId": "dc2e2500-e354-4c92-89c5-1eadbec9b4e9"
      },
      "outputs": [
        {
          "output_type": "stream",
          "name": "stdout",
          "text": [
            "True\n",
            "False\n",
            "False\n",
            "True\n",
            "True\n",
            "False\n"
          ]
        }
      ],
      "source": [
        "A = [1,2,3,4,5]\n",
        "B = [1,2,3,4,5]\n",
        "a=10\n",
        "b=10\n",
        "print(1 in A)\n",
        "print(6 in A)\n",
        "print(A is B)\n",
        "print(A is not B)\n",
        "print(a is b)\n",
        "print(a is not b)"
      ]
    },
    {
      "cell_type": "code",
      "source": [
        "lst = [1,2,3,4,5,6,7,8,9,10]\n",
        "\n",
        "print(\"lst[]\",lst)\n",
        "print(\"lst[0:2]\",lst[0:2])\n",
        "print(\"lst[1:3]\",lst[1:3])\n",
        "\n",
        "lst = [1,2,3,4,5,6,7,8,9,10]\n",
        "\n",
        "print(\"lst[]\",lst)\n",
        "print(\"lst[-3:-1]\",lst[-3:-1])\n",
        "print(\"lst[-2:]\",lst[-2:])\n",
        "print(lst[:])\n",
        "print(lst[:2])\n",
        "print(lst[2:])"
      ],
      "metadata": {
        "colab": {
          "base_uri": "https://localhost:8080/"
        },
        "id": "nYKRwlPur0n9",
        "outputId": "61196ea5-81b3-47a7-a3b1-394bcab8f809"
      },
      "execution_count": null,
      "outputs": [
        {
          "output_type": "stream",
          "name": "stdout",
          "text": [
            "lst[] [1, 2, 3, 4, 5, 6, 7, 8, 9, 10]\n",
            "lst[0:2] [1, 2]\n",
            "lst[1:3] [2, 3]\n",
            "lst[] [1, 2, 3, 4, 5, 6, 7, 8, 9, 10]\n",
            "lst[-3:-1] [8, 9]\n",
            "lst[-2:] [9, 10]\n",
            "[1, 2, 3, 4, 5, 6, 7, 8, 9, 10]\n",
            "[1, 2]\n",
            "[3, 4, 5, 6, 7, 8, 9, 10]\n"
          ]
        }
      ]
    },
    {
      "cell_type": "code",
      "source": [
        "#append(value)\n",
        "lst = [1,2,3]\n",
        "\n",
        "lst.append('a')\n",
        "print(lst)\n",
        "lst.append([4,'b'])\n",
        "print(lst)\n",
        "lst.extend(['a','b','c'])\n",
        "print(lst)\n",
        "\n",
        "lst.index(2)"
      ],
      "metadata": {
        "colab": {
          "base_uri": "https://localhost:8080/"
        },
        "id": "u659nGXQz5fG",
        "outputId": "e357771c-a117-41ef-a4b4-4ae4929cf956"
      },
      "execution_count": null,
      "outputs": [
        {
          "output_type": "stream",
          "name": "stdout",
          "text": [
            "[1, 2, 3, 'a']\n",
            "[1, 2, 3, 'a', [4, 'b']]\n",
            "[1, 2, 3, 'a', [4, 'b'], 'a', 'b', 'c']\n"
          ]
        },
        {
          "output_type": "execute_result",
          "data": {
            "text/plain": [
              "1"
            ]
          },
          "metadata": {},
          "execution_count": 57
        }
      ]
    },
    {
      "cell_type": "code",
      "source": [
        "lst = [1,2,3]\n",
        "lst.reverse()\n",
        "lst.sort()\n",
        "lst.sort(reverse=True)\n",
        "lst1= sorted(lst)\n",
        "print(lst1)"
      ],
      "metadata": {
        "colab": {
          "base_uri": "https://localhost:8080/"
        },
        "id": "6PwJojHQ5Mbu",
        "outputId": "0c634287-d378-4d3e-a00d-077db802c0d8"
      },
      "execution_count": null,
      "outputs": [
        {
          "output_type": "stream",
          "name": "stdout",
          "text": [
            "[1, 2, 3]\n"
          ]
        }
      ]
    },
    {
      "cell_type": "code",
      "source": [
        "#shallow copy 얕은 복사\n",
        "lst1 = [1,3,2] \n",
        "lst2 = lst1\n",
        "\n",
        "#lst2를 수정하면 lst1도 변경한다.\n",
        "\n",
        "#deep copy 깊은 복사\n",
        "lst1 = [1,3,2] \n",
        "lst2 = list(lst1)\n",
        "#별도의 기억 공간이다 \n"
      ],
      "metadata": {
        "id": "9lZ5Odzd6uoW"
      },
      "execution_count": null,
      "outputs": []
    },
    {
      "cell_type": "code",
      "source": [
        "in_v=int(input(\"양수를 입력하세요.\\n\"))\n",
        "\n",
        "if in_v % 2 == 0:\n",
        "  print(f\"입력한 수 {in_v}는 짝수입니다.\\n\")\n",
        "else:\n",
        "  print(f\"입력한 수 {in_v}는 홀수입니다.\\n\")"
      ],
      "metadata": {
        "colab": {
          "base_uri": "https://localhost:8080/"
        },
        "id": "C65xYnjK_fSW",
        "outputId": "e9dc2e93-b5d0-4b05-aba6-589d9a2a62c9"
      },
      "execution_count": null,
      "outputs": [
        {
          "output_type": "stream",
          "name": "stdout",
          "text": [
            "양수를 입력하세요.\n",
            "4\n",
            "입력한 수 4는 짝수입니다.\n",
            "\n"
          ]
        }
      ]
    },
    {
      "cell_type": "code",
      "source": [
        "in_v=int(input(\"입력:\"))\n",
        "\n",
        "if(in_v >= 0):\n",
        "  if(in_v%2==0):\n",
        "    print(f\"입력한 수 {in_v}는 양수이며 짝수입니다.\")\n",
        "  else:\n",
        "    print(f\"입력한 수 {in_v}는 양수이며 홀수입니다.\")\n",
        "\n",
        "else:\n",
        "  print(f\"입력한 수{in_v}는 음수입니다.\")"
      ],
      "metadata": {
        "id": "tL6xbULh_4a-"
      },
      "execution_count": null,
      "outputs": []
    },
    {
      "cell_type": "code",
      "source": [
        "점수=int(input(\"0점에서 100점 사이의 점수를 입력하세요.\\n\"))\n",
        "if 점수 >=0 and 점수 <= 100:#범위를 벗어난 값 먼저 제시\n",
        "if 점수 < 60:\n",
        "    print(f\"{점수}점은 F학점입니다.\")\n",
        "\n",
        "  elif 점수 < 70:\n",
        "    print(f\"{점수}점은 D학점입니다.\")\n",
        "\n",
        "  elif 점수 < 80:\n",
        "    print(f\"{점수}점은 C학점입니다.\")\n",
        "\n",
        "  elif 점수 < 90:\n",
        "    print(f\"{점수}점은 B학점입니다.\")\n",
        "\n",
        "  else:\n",
        "    print(f\"{점수}점은 A학점입니다.\")\n",
        "\n",
        "else:\n",
        "  print(\"범위를 벗어났습니다.\")\n"
      ],
      "metadata": {
        "id": "lSwWebv_CK_u"
      },
      "execution_count": null,
      "outputs": []
    },
    {
      "cell_type": "code",
      "source": [
        "a,b,c=input(\"a (연산자) b로 입력\").split()\n",
        "if b==\"+\":\n",
        "  end=int(a)+int(c)\n",
        "elif b==\"-\":\n",
        "  end=int(a)-int(c)\n",
        "elif b==\"*\":\n",
        "  end=int(a)*int(c)\n",
        "elif b==\"//\":\n",
        "  end=int(a)//int(c)\n",
        "elif b==\"/\":\n",
        "  end=int(a)/int(c)\n",
        "elif b==\"%\":\n",
        "  end=int(a)%int(c)\n",
        "print(f\"정답:{a}{b}{c}={end}\")"
      ],
      "metadata": {
        "id": "9i0-JsZ2GSwW"
      },
      "execution_count": null,
      "outputs": []
    }
  ]
}